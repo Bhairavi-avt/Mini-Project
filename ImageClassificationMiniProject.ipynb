{
  "nbformat": 4,
  "nbformat_minor": 0,
  "metadata": {
    "colab": {
      "name": "ImageClassificationMiniProject.ipynb",
      "provenance": [],
      "collapsed_sections": [],
      "authorship_tag": "ABX9TyNRSYUF63fq+AX3TWrqJ7Sa",
      "include_colab_link": true
    },
    "kernelspec": {
      "name": "python3",
      "display_name": "Python 3"
    },
    "language_info": {
      "name": "python"
    }
  },
  "cells": [
    {
      "cell_type": "markdown",
      "metadata": {
        "id": "view-in-github",
        "colab_type": "text"
      },
      "source": [
        "<a href=\"https://colab.research.google.com/github/Bhairavi-avt/Mini-Project/blob/main/ImageClassificationMiniProject.ipynb\" target=\"_parent\"><img src=\"https://colab.research.google.com/assets/colab-badge.svg\" alt=\"Open In Colab\"/></a>"
      ]
    },
    {
      "cell_type": "code",
      "metadata": {
        "colab": {
          "base_uri": "https://localhost:8080/"
        },
        "id": "EQI5w7a5h2Sr",
        "outputId": "27c1f587-c57a-419d-df71-2d1f01b4cf92"
      },
      "source": [
        "!pip install ipython-autotime\n",
        "%load_ext autotime"
      ],
      "execution_count": 3,
      "outputs": [
        {
          "output_type": "stream",
          "text": [
            "Collecting ipython-autotime\n",
            "  Downloading https://files.pythonhosted.org/packages/b4/c9/b413a24f759641bc27ef98c144b590023c8038dfb8a3f09e713e9dff12c1/ipython_autotime-0.3.1-py2.py3-none-any.whl\n",
            "Requirement already satisfied: ipython in /usr/local/lib/python3.7/dist-packages (from ipython-autotime) (5.5.0)\n",
            "Requirement already satisfied: decorator in /usr/local/lib/python3.7/dist-packages (from ipython->ipython-autotime) (4.4.2)\n",
            "Requirement already satisfied: simplegeneric>0.8 in /usr/local/lib/python3.7/dist-packages (from ipython->ipython-autotime) (0.8.1)\n",
            "Requirement already satisfied: traitlets>=4.2 in /usr/local/lib/python3.7/dist-packages (from ipython->ipython-autotime) (5.0.5)\n",
            "Requirement already satisfied: pickleshare in /usr/local/lib/python3.7/dist-packages (from ipython->ipython-autotime) (0.7.5)\n",
            "Requirement already satisfied: pygments in /usr/local/lib/python3.7/dist-packages (from ipython->ipython-autotime) (2.6.1)\n",
            "Requirement already satisfied: setuptools>=18.5 in /usr/local/lib/python3.7/dist-packages (from ipython->ipython-autotime) (57.0.0)\n",
            "Requirement already satisfied: prompt-toolkit<2.0.0,>=1.0.4 in /usr/local/lib/python3.7/dist-packages (from ipython->ipython-autotime) (1.0.18)\n",
            "Requirement already satisfied: pexpect; sys_platform != \"win32\" in /usr/local/lib/python3.7/dist-packages (from ipython->ipython-autotime) (4.8.0)\n",
            "Requirement already satisfied: ipython-genutils in /usr/local/lib/python3.7/dist-packages (from traitlets>=4.2->ipython->ipython-autotime) (0.2.0)\n",
            "Requirement already satisfied: six>=1.9.0 in /usr/local/lib/python3.7/dist-packages (from prompt-toolkit<2.0.0,>=1.0.4->ipython->ipython-autotime) (1.15.0)\n",
            "Requirement already satisfied: wcwidth in /usr/local/lib/python3.7/dist-packages (from prompt-toolkit<2.0.0,>=1.0.4->ipython->ipython-autotime) (0.2.5)\n",
            "Requirement already satisfied: ptyprocess>=0.5 in /usr/local/lib/python3.7/dist-packages (from pexpect; sys_platform != \"win32\"->ipython->ipython-autotime) (0.7.0)\n",
            "Installing collected packages: ipython-autotime\n",
            "Successfully installed ipython-autotime-0.3.1\n",
            "time: 551 µs (started: 2021-06-28 07:55:03 +00:00)\n"
          ],
          "name": "stdout"
        }
      ]
    },
    {
      "cell_type": "code",
      "metadata": {
        "colab": {
          "base_uri": "https://localhost:8080/"
        },
        "id": "lWhObulWD5Yn",
        "outputId": "4f3783ea-1e4d-4446-d392-840c3e477bb3"
      },
      "source": [
        "!pip install bing-image-downloader"
      ],
      "execution_count": 4,
      "outputs": [
        {
          "output_type": "stream",
          "text": [
            "Collecting bing-image-downloader\n",
            "  Downloading https://files.pythonhosted.org/packages/c2/04/1872a689a30036aa0b81ac9fca124a7413cad71fdab714f727cf1a34b671/bing_image_downloader-1.1.1-py3-none-any.whl\n",
            "Installing collected packages: bing-image-downloader\n",
            "Successfully installed bing-image-downloader-1.1.1\n",
            "time: 3.14 s (started: 2021-06-28 07:55:03 +00:00)\n"
          ],
          "name": "stdout"
        }
      ]
    },
    {
      "cell_type": "code",
      "metadata": {
        "colab": {
          "base_uri": "https://localhost:8080/"
        },
        "id": "Ip43v2TmbOT5",
        "outputId": "d10299c0-e16d-4270-ead7-1468d777bcfe"
      },
      "source": [
        "!mkdir images"
      ],
      "execution_count": 5,
      "outputs": [
        {
          "output_type": "stream",
          "text": [
            "time: 126 ms (started: 2021-06-28 07:55:07 +00:00)\n"
          ],
          "name": "stdout"
        }
      ]
    },
    {
      "cell_type": "code",
      "metadata": {
        "colab": {
          "base_uri": "https://localhost:8080/"
        },
        "id": "5qF2HWknbjv4",
        "outputId": "abb124e1-cb78-4fd2-eac0-f9dda65d625d"
      },
      "source": [
        "from bing_image_downloader import downloader\n",
        "downloader.download(\"pretty sunflower\",limit=30,output_dir='images',\n",
        "                    adult_filter_off=True)"
      ],
      "execution_count": 6,
      "outputs": [
        {
          "output_type": "stream",
          "text": [
            "[%] Downloading Images to /content/images/pretty sunflower\n",
            "\n",
            "\n",
            "[!!]Indexing page: 1\n",
            "\n",
            "[%] Indexed 30 Images on Page 1.\n",
            "\n",
            "===============================================\n",
            "\n",
            "[%] Downloading Image #1 from https://pixfeeds.com/images/flowers/sunflowers/1280-506587098-beautiful-sunflower.jpg\n",
            "[%] File Downloaded !\n",
            "\n",
            "[%] Downloading Image #2 from https://i.pinimg.com/originals/75/ad/3f/75ad3f4512a7cfd54b272a2e6ee73c46.jpg\n",
            "[%] File Downloaded !\n",
            "\n",
            "[%] Downloading Image #3 from https://i.pinimg.com/originals/91/39/52/913952e8f81e8faa94481bda88e4dfba.jpg\n",
            "[%] File Downloaded !\n",
            "\n",
            "[%] Downloading Image #4 from https://i.pinimg.com/originals/28/64/0b/28640bb3517270d7670f2ad294ddd6ab.jpg\n",
            "[%] File Downloaded !\n",
            "\n",
            "[%] Downloading Image #5 from https://i.pinimg.com/originals/69/30/e0/6930e0d5364f2eead9591771a7515665.jpg\n",
            "[%] File Downloaded !\n",
            "\n",
            "[%] Downloading Image #6 from https://i.pinimg.com/originals/f7/0d/11/f70d11647628b048be42a5b0df480a8b.jpg\n",
            "[%] File Downloaded !\n",
            "\n",
            "[%] Downloading Image #7 from https://i.pinimg.com/originals/46/1b/32/461b32b654b404395049c70f0a8b687d.jpg\n",
            "[%] File Downloaded !\n",
            "\n",
            "[%] Downloading Image #8 from https://api.time.com/wp-content/uploads/2016/08/sunflowers.jpg\n",
            "[%] File Downloaded !\n",
            "\n",
            "[%] Downloading Image #9 from https://i.pinimg.com/originals/41/e5/5b/41e55b93113d5463237e938c54093813.jpg\n",
            "[%] File Downloaded !\n",
            "\n",
            "[%] Downloading Image #10 from https://i.pinimg.com/originals/99/85/f2/9985f23566590fd95cf65213d07be239.jpg\n",
            "[%] File Downloaded !\n",
            "\n",
            "[%] Downloading Image #11 from https://i0.wp.com/howlifestyles.com/wp-content/uploads/2020/06/Sunflowers_20200510.jpg?fit=800%2C1000&amp;ssl=1\n",
            "[%] File Downloaded !\n",
            "\n",
            "[%] Downloading Image #12 from https://cdn.shopify.com/s/files/1/2461/7623/files/what-is-sunflower-oil.jpg?v=1511997543\n",
            "[%] File Downloaded !\n",
            "\n",
            "[%] Downloading Image #13 from https://i.pinimg.com/originals/bc/2a/64/bc2a64a8cb893ff957f557e721ee4efc.jpg\n",
            "[%] File Downloaded !\n",
            "\n",
            "[%] Downloading Image #14 from https://i.pinimg.com/originals/0d/e0/d7/0de0d7dffe84b8f5cda7e3e440f22122.jpg\n",
            "[%] File Downloaded !\n",
            "\n",
            "[%] Downloading Image #15 from https://www.stonecirclecoaching.com/wp-content/uploads/2015/09/unexpected-sunflower.jpg\n",
            "[%] File Downloaded !\n",
            "\n",
            "[%] Downloading Image #16 from https://i.pinimg.com/originals/ae/dc/b4/aedcb4cfe5cc804bd93fa7397285ab69.jpg\n",
            "[%] File Downloaded !\n",
            "\n",
            "[%] Downloading Image #17 from https://i.pinimg.com/736x/42/cf/c7/42cfc769dc02aced51866694aa9bac9c--sunflowers-sunshine.jpg\n",
            "[%] File Downloaded !\n",
            "\n",
            "[%] Downloading Image #18 from https://i.pinimg.com/736x/84/07/19/84071927dcb8c441b0d8634bfaf86c31--sunflower-fields-sunflowers.jpg\n",
            "[%] File Downloaded !\n",
            "\n",
            "[%] Downloading Image #19 from https://i.pinimg.com/originals/9e/3d/89/9e3d8929a4ecf4c7702c2f10e27c97c8.jpg\n",
            "[%] File Downloaded !\n",
            "\n",
            "[%] Downloading Image #20 from https://i.pinimg.com/originals/e1/6d/e5/e16de54a8578d5c1c1de42cbc614a1e4.jpg\n",
            "[%] File Downloaded !\n",
            "\n",
            "[%] Downloading Image #21 from https://i.pinimg.com/originals/f6/9c/39/f69c394cf7b39faed6d57db9ee520205.jpg\n",
            "[%] File Downloaded !\n",
            "\n",
            "[%] Downloading Image #22 from https://i.pinimg.com/originals/3f/72/43/3f724320cdf7b8362d54966df15308cc.jpg\n",
            "[%] File Downloaded !\n",
            "\n",
            "[%] Downloading Image #23 from https://i.pinimg.com/736x/24/91/34/24913484791991a13f6b644ab1366f3a--the-sunflower-kansas.jpg\n",
            "[%] File Downloaded !\n",
            "\n",
            "[%] Downloading Image #24 from https://i.pinimg.com/originals/d6/65/0d/d6650dfbe09a374d2a6f4fdca2f8a9f6.jpg\n",
            "[%] File Downloaded !\n",
            "\n",
            "[%] Downloading Image #25 from https://i.pinimg.com/originals/0a/02/7a/0a027a31f226b695d0f01baeb13a7410.jpg\n",
            "[%] File Downloaded !\n",
            "\n",
            "[%] Downloading Image #26 from https://i.pinimg.com/originals/f0/a0/dc/f0a0dc28c43f3347839073cca55eb189.jpg\n",
            "[%] File Downloaded !\n",
            "\n",
            "[%] Downloading Image #27 from https://s-media-cache-ak0.pinimg.com/736x/02/64/cf/0264cfbe0f0f81a379b657717cbdfebe.jpg\n",
            "[%] File Downloaded !\n",
            "\n",
            "[%] Downloading Image #28 from https://i.pinimg.com/originals/a9/5d/5f/a95d5fcd3072c306cf93eba0b513715a.jpg\n",
            "[%] File Downloaded !\n",
            "\n",
            "[%] Downloading Image #29 from https://i.pinimg.com/originals/80/6f/da/806fdadf1d6f9bbb070afc730d336e65.jpg\n",
            "[%] File Downloaded !\n",
            "\n",
            "[%] Downloading Image #30 from https://i.pinimg.com/originals/72/0a/2d/720a2d254215ab0ab36d189c1bb52414.jpg\n",
            "[%] File Downloaded !\n",
            "\n",
            "\n",
            "\n",
            "[%] Done. Downloaded 30 images.\n",
            "===============================================\n",
            "\n",
            "Please show your support here\n",
            "https://www.buymeacoffee.com/gurugaurav\n",
            "\n",
            "===============================================\n",
            "\n",
            "time: 3.24 s (started: 2021-06-28 07:55:07 +00:00)\n"
          ],
          "name": "stdout"
        }
      ]
    },
    {
      "cell_type": "code",
      "metadata": {
        "colab": {
          "base_uri": "https://localhost:8080/"
        },
        "id": "Vid3httBgCRj",
        "outputId": "ef6cc0b5-c278-45fe-855d-eb52c5d7229a"
      },
      "source": [
        "downloader.download(\"cricket ball\",limit=30,output_dir='images',\n",
        "                    adult_filter_off=True)"
      ],
      "execution_count": 7,
      "outputs": [
        {
          "output_type": "stream",
          "text": [
            "[%] Downloading Images to /content/images/cricket ball\n",
            "\n",
            "\n",
            "[!!]Indexing page: 1\n",
            "\n",
            "[%] Indexed 30 Images on Page 1.\n",
            "\n",
            "===============================================\n",
            "\n",
            "[%] Downloading Image #1 from https://n1.sdlcdn.com/imgs/a/x/p/SS-True-Test-Cricket-Ball-SDL133148022-1-b71cd.jpg\n",
            "[%] File Downloaded !\n",
            "\n",
            "[%] Downloading Image #2 from https://www.sportsuncle.com/image/cache/catalog/images/ss/true-test-1024x1024.jpg\n",
            "[!] Issue getting: https://www.sportsuncle.com/image/cache/catalog/images/ss/true-test-1024x1024.jpg\n",
            "[!] Error:: HTTP Error 404: Not Found\n",
            "[%] Downloading Image #2 from https://mysports.lk/wp-content/uploads/2020/05/true-test-ball-SF-sl-1024x870.jpg\n",
            "[%] File Downloaded !\n",
            "\n",
            "[%] Downloading Image #3 from https://www.khelmart.com/Cricket/zoomer_Image/SS_CB_000069_large.jpg?scale.width=450\n",
            "[%] File Downloaded !\n",
            "\n",
            "[%] Downloading Image #4 from https://www.khelmart.com/Cricket/zoomer_Image/SS_CB_000071_large.jpg\n",
            "[%] File Downloaded !\n",
            "\n",
            "[%] Downloading Image #5 from https://www.sports91.com/wp-content/uploads/2019/04/5bbaf19632ed6dfeb55e5204.jpg\n",
            "[%] File Downloaded !\n",
            "\n",
            "[%] Downloading Image #6 from https://www.onlineshoppingsports.com/uploadImages/oldimg_2018_09_23_014135.jpg\n",
            "[%] File Downloaded !\n",
            "\n",
            "[%] Downloading Image #7 from https://n3.sdlcdn.com/imgs/e/z/6/Avats-New-Cricket-Ball-Set-SDL124249792-1-9e8ea.jpg\n",
            "[%] File Downloaded !\n",
            "\n",
            "[%] Downloading Image #8 from https://n2.sdlcdn.com/imgs/a/r/b/Sf-True-Test-Cricket-Ball-SDL750499451-1-346c7.jpg\n",
            "[%] File Downloaded !\n",
            "\n",
            "[%] Downloading Image #9 from https://n1.sdlcdn.com/imgs/h/s/r/JTM-english-leather-cricket-ball-SDL154151662-1-93ec0.jpg\n",
            "[%] File Downloaded !\n",
            "\n",
            "[%] Downloading Image #10 from https://n2.sdlcdn.com/imgs/h/s/l/SG-Bouncer-Leather-Cricket-Ball-SDL486984478-1-fae32.jpg\n",
            "[%] File Downloaded !\n",
            "\n",
            "[%] Downloading Image #11 from https://n3.sdlcdn.com/imgs/h/w/i/SG-CRICKET-BALL-SDL111243472-1-613bf.jpeg\n",
            "[%] File Downloaded !\n",
            "\n",
            "[%] Downloading Image #12 from https://www.khelmart.com/Cricket/zoomer_Image/SF_CB_000048_R_large.jpg\n",
            "[%] File Downloaded !\n",
            "\n",
            "[%] Downloading Image #13 from https://n2.sdlcdn.com/imgs/h/w/i/SG-CRICKET-BALL-SDL111243472-3-904b6.jpeg\n",
            "[%] File Downloaded !\n",
            "\n",
            "[%] Downloading Image #14 from https://n3.sdlcdn.com/imgs/i/z/e/JTM-cricket-leather-ball-SDL236926717-1-e189c.jpg\n",
            "[%] File Downloaded !\n",
            "\n",
            "[%] Downloading Image #15 from https://n1.sdlcdn.com/imgs/j/m/a/S4C-EM-Seam-Training-Cricket-SDL306514719-1-fc9a1.jpeg\n",
            "[%] File Downloaded !\n",
            "\n",
            "[%] Downloading Image #16 from https://n3.sdlcdn.com/imgs/f/u/k/cricket-ball-in-leather-SDL520298521-1-a195f.jpeg\n",
            "[%] File Downloaded !\n",
            "\n",
            "[%] Downloading Image #17 from https://i.ebayimg.com/images/i/262596692228-0-1/s-l1000.jpg\n",
            "[%] File Downloaded !\n",
            "\n",
            "[%] Downloading Image #18 from https://n4.sdlcdn.com/imgs/i/g/l/Cashwin-Cricket-leather-Ball-SDL681618348-2-a0d82.jpeg\n",
            "[%] File Downloaded !\n",
            "\n",
            "[%] Downloading Image #19 from https://n1.sdlcdn.com/imgs/b/c/e/JK-Sports-Club-Cricket-Leather-SDL589322095-2-a3d66.jpg\n",
            "[%] File Downloaded !\n",
            "\n",
            "[%] Downloading Image #20 from https://n3.sdlcdn.com/imgs/j/i/k/S4C-APG-Diamond-Cricket-Ball-SDL434693733-3-2e40e.jpg\n",
            "[%] File Downloaded !\n",
            "\n",
            "[%] Downloading Image #21 from https://n3.sdlcdn.com/imgs/h/s/r/SUPER-TEST-hand-stitched-leather-SDL854397737-1-f8722.jpg\n",
            "[%] File Downloaded !\n",
            "\n",
            "[%] Downloading Image #22 from https://n4.sdlcdn.com/imgs/e/z/6/Avats-New-Cricket-Ball-Set-SDL124249792-3-767c8.jpg\n",
            "[%] File Downloaded !\n",
            "\n",
            "[%] Downloading Image #23 from https://www.khelmart.com/Cricket/zoomer_Image/SS_CB_000076_large.jpg?scale.width=450\n",
            "[%] File Downloaded !\n",
            "\n",
            "[%] Downloading Image #24 from https://www.sportcart.in/products/2020/376/truetestleatherball2.jpg\n",
            "[%] File Downloaded !\n",
            "\n",
            "[%] Downloading Image #25 from https://n2.sdlcdn.com/imgs/j/f/n/Port-Leather-Cricket-balls-SDL651823504-1-cd83b.jpeg\n",
            "[%] File Downloaded !\n",
            "\n",
            "[%] Downloading Image #26 from https://n4.sdlcdn.com/imgs/i/2/6/SG-Bouncer-Leather-Cricket-Ball-SDL472676353-2-4d5d3.jpeg\n",
            "[%] File Downloaded !\n",
            "\n",
            "[%] Downloading Image #27 from https://i.ebayimg.com/images/g/KHkAAOSwYNpehz0P/s-l640.jpg\n",
            "[%] File Downloaded !\n",
            "\n",
            "[%] Downloading Image #28 from http://4.imimg.com/data4/SS/HH/MY-2100883/true-test-500x500.jpg\n",
            "[%] File Downloaded !\n",
            "\n",
            "[%] Downloading Image #29 from https://n3.sdlcdn.com/imgs/i/6/g/SVR-Tournament-Leather-Cricket-Balls-SDL378625217-3-1e721.jpeg\n",
            "[%] File Downloaded !\n",
            "\n",
            "\n",
            "\n",
            "[!!]Indexing page: 2\n",
            "\n",
            "[%] Indexed 35 Images on Page 2.\n",
            "\n",
            "===============================================\n",
            "\n",
            "[%] Downloading Image #30 from https://n1.sdlcdn.com/imgs/a/x/p/SS-True-Test-Cricket-Ball-SDL133148022-1-b71cd.jpg\n",
            "[%] File Downloaded !\n",
            "\n",
            "\n",
            "\n",
            "[%] Done. Downloaded 30 images.\n",
            "===============================================\n",
            "\n",
            "Please show your support here\n",
            "https://www.buymeacoffee.com/gurugaurav\n",
            "\n",
            "===============================================\n",
            "\n",
            "time: 7.51 s (started: 2021-06-28 07:55:10 +00:00)\n"
          ],
          "name": "stdout"
        }
      ]
    },
    {
      "cell_type": "code",
      "metadata": {
        "colab": {
          "base_uri": "https://localhost:8080/"
        },
        "id": "8YI-6OiZhH-h",
        "outputId": "e17ed33f-0027-457b-b675-dc1074e32d9d"
      },
      "source": [
        "downloader.download(\"cars\",limit=30,output_dir='images',\n",
        "                    adult_filter_off=True)"
      ],
      "execution_count": 8,
      "outputs": [
        {
          "output_type": "stream",
          "text": [
            "[%] Downloading Images to /content/images/cars\n",
            "\n",
            "\n",
            "[!!]Indexing page: 1\n",
            "\n",
            "[%] Indexed 30 Images on Page 1.\n",
            "\n",
            "===============================================\n",
            "\n",
            "[%] Downloading Image #1 from http://www.carbodydesign.com/archive/2009/08/05-sv-9-competizione-images/SV-9-Competizione-4-lg.jpg\n",
            "[%] File Downloaded !\n",
            "\n",
            "[%] Downloading Image #2 from https://i.pinimg.com/736x/73/62/d8/7362d822038afc4386906ce9ab2ce58c.jpg\n",
            "[%] File Downloaded !\n",
            "\n",
            "[%] Downloading Image #3 from https://media.whatcar.com/migration/article_inline/fa3f2b3925370291872ddcf823dd8719749dcae6.jpg\n",
            "[%] File Downloaded !\n",
            "\n",
            "[%] Downloading Image #4 from https://external-preview.redd.it/pbEfLIYe90hFmJFBXWG8K0oXU4ayUl-6-USZlF7G_qk.jpg?auto=webp&amp;s=b2d9b17a5a84826506058e26ddbaeead84d0761a\n",
            "[!] Issue getting: https://external-preview.redd.it/pbEfLIYe90hFmJFBXWG8K0oXU4ayUl-6-USZlF7G_qk.jpg?auto=webp&amp;s=b2d9b17a5a84826506058e26ddbaeead84d0761a\n",
            "[!] Error:: HTTP Error 403: Forbidden\n",
            "[%] Downloading Image #4 from https://i.pinimg.com/originals/df/6e/57/df6e57b2d6050b54f683c11d271b1803.jpg\n",
            "[%] File Downloaded !\n",
            "\n",
            "[%] Downloading Image #5 from https://media.whatcar.com/wc-image/2019-04/true_mpg_best_and_worst_hybrid_cars.jpg\n",
            "[%] File Downloaded !\n",
            "\n",
            "[%] Downloading Image #6 from https://i.pinimg.com/originals/d2/ad/d6/d2add6400c95271ff439dc3f4c4f84f3.jpg\n",
            "[%] File Downloaded !\n",
            "\n",
            "[%] Downloading Image #7 from https://i.ytimg.com/vi/2GFYiV4bmFo/maxresdefault.jpg\n",
            "[%] File Downloaded !\n",
            "\n",
            "[%] Downloading Image #8 from https://i.pinimg.com/originals/4b/cc/60/4bcc60ef5497f1ac8fddb4b88dc31b5f.jpg\n",
            "[%] File Downloaded !\n",
            "\n",
            "[%] Downloading Image #9 from http://finallylost.com/wp-content/uploads/2017/01/the-cars-in-dubai-is-the-rumor-true-06.jpg\n",
            "[%] File Downloaded !\n",
            "\n",
            "[%] Downloading Image #10 from https://static1.thethingsimages.com/wordpress/wp-content/uploads/2020/03/14-Rare-Muscle-Cars-Only-True-Gearheads-Will-Recognize-1.jpg\n",
            "[Error]Invalid image, not saving https://static1.thethingsimages.com/wordpress/wp-content/uploads/2020/03/14-Rare-Muscle-Cars-Only-True-Gearheads-Will-Recognize-1.jpg\n",
            "\n",
            "[!] Issue getting: https://static1.thethingsimages.com/wordpress/wp-content/uploads/2020/03/14-Rare-Muscle-Cars-Only-True-Gearheads-Will-Recognize-1.jpg\n",
            "[!] Error:: Invalid image, not saving https://static1.thethingsimages.com/wordpress/wp-content/uploads/2020/03/14-Rare-Muscle-Cars-Only-True-Gearheads-Will-Recognize-1.jpg\n",
            "\n",
            "[%] Downloading Image #10 from http://jaikrishnaamaruti.com/uploads/truevalue_cars/0_13-08-2020_13-37-04.jpeg\n",
            "[%] File Downloaded !\n",
            "\n",
            "[%] Downloading Image #11 from http://farm8.staticflickr.com/7337/10414103015_ceb1b3609e_z.jpg\n",
            "[%] File Downloaded !\n",
            "\n",
            "[%] Downloading Image #12 from https://static3.hotcarsimages.com/wordpress/wp-content/uploads/2020/08/challenger.jpg\n",
            "[Error]Invalid image, not saving https://static3.hotcarsimages.com/wordpress/wp-content/uploads/2020/08/challenger.jpg\n",
            "\n",
            "[!] Issue getting: https://static3.hotcarsimages.com/wordpress/wp-content/uploads/2020/08/challenger.jpg\n",
            "[!] Error:: Invalid image, not saving https://static3.hotcarsimages.com/wordpress/wp-content/uploads/2020/08/challenger.jpg\n",
            "\n",
            "[%] Downloading Image #12 from https://media.whatcar.com/migration/article_inline/31e233fabca887757aba0bb56028fce65792efc4.jpg\n",
            "[%] File Downloaded !\n",
            "\n",
            "[%] Downloading Image #13 from https://i1.wp.com/automothink.com/assets/2020/03/Renault-Trezor.jpg?fit=1280%2C720&amp;ssl=1\n",
            "[%] File Downloaded !\n",
            "\n",
            "[%] Downloading Image #14 from https://media.whatcar.com/wc-image/2019-06/2-ford-st-diesel-1082018.jpg\n",
            "[%] File Downloaded !\n",
            "\n",
            "[%] Downloading Image #15 from https://i.pinimg.com/originals/e8/5a/6c/e85a6cff5b06a5e2a0b94c0f539789a3.jpg\n",
            "[%] File Downloaded !\n",
            "\n",
            "[%] Downloading Image #16 from https://media.whatcar.com/wc-image/2020-02/true_mpg_best_and_worst_hybrid_cars.jpg\n",
            "[%] File Downloaded !\n",
            "\n",
            "[%] Downloading Image #17 from https://nhev.in/wp-content/uploads/2020/01/1x-1-1040x693.jpg\n",
            "[%] File Downloaded !\n",
            "\n",
            "[%] Downloading Image #18 from https://data.1freewallpapers.com/download/true-blue-chevelle.jpg\n",
            "[%] File Downloaded !\n",
            "\n",
            "[%] Downloading Image #19 from http://jaikrishnaamaruti.com/uploads/truevalue_cars/0_27-01-2018_16-03-53.jpg\n",
            "[%] File Downloaded !\n",
            "\n",
            "[%] Downloading Image #20 from https://i.pinimg.com/originals/ed/60/f1/ed60f18513d8cebfdeddb93e9b72020d.jpg\n",
            "[%] File Downloaded !\n",
            "\n",
            "[%] Downloading Image #21 from https://i.pinimg.com/originals/e7/2f/c1/e72fc1e195456b1e7124a470f4abdfe1.jpg\n",
            "[%] File Downloaded !\n",
            "\n",
            "[%] Downloading Image #22 from https://images.cdn.circlesix.co/image/2/1200/630/5/uploads/posts/2017/03/8f85892a342ffe6757f17aee21e91078.jpg\n",
            "[Error]Invalid image, not saving https://images.cdn.circlesix.co/image/2/1200/630/5/uploads/posts/2017/03/8f85892a342ffe6757f17aee21e91078.jpg\n",
            "\n",
            "[!] Issue getting: https://images.cdn.circlesix.co/image/2/1200/630/5/uploads/posts/2017/03/8f85892a342ffe6757f17aee21e91078.jpg\n",
            "[!] Error:: Invalid image, not saving https://images.cdn.circlesix.co/image/2/1200/630/5/uploads/posts/2017/03/8f85892a342ffe6757f17aee21e91078.jpg\n",
            "\n",
            "[%] Downloading Image #22 from https://media.whatcar.com/wc-image/2020-01/executive_cars_-_true_mpg.jpg\n",
            "[%] File Downloaded !\n",
            "\n",
            "[%] Downloading Image #23 from https://shinecoco.com/wp-content/uploads/2020/04/the_young_ruler.jpg\n",
            "[%] File Downloaded !\n",
            "\n",
            "[%] Downloading Image #24 from https://static2.hotcarsimages.com/wordpress/wp-content/uploads/2020/12/Toyota-Celica-GT-Four-Front.jpg\n",
            "[%] File Downloaded !\n",
            "\n",
            "[%] Downloading Image #25 from https://media.whatcar.com/wc-image/2020-11/toyota_yaris_2020_front.jpg\n",
            "[%] File Downloaded !\n",
            "\n",
            "[%] Downloading Image #26 from http://s24990.pcdn.co/wp-content/uploads/2019/08/2020-cars1.jpg\n",
            "[%] File Downloaded !\n",
            "\n",
            "\n",
            "\n",
            "[!!]Indexing page: 2\n",
            "\n",
            "[%] Indexed 35 Images on Page 2.\n",
            "\n",
            "===============================================\n",
            "\n",
            "[%] Downloading Image #27 from http://www.carbodydesign.com/archive/2009/08/05-sv-9-competizione-images/SV-9-Competizione-4-lg.jpg\n",
            "[%] File Downloaded !\n",
            "\n",
            "[%] Downloading Image #28 from https://i.pinimg.com/736x/73/62/d8/7362d822038afc4386906ce9ab2ce58c.jpg\n",
            "[%] File Downloaded !\n",
            "\n",
            "[%] Downloading Image #29 from https://media.whatcar.com/migration/article_inline/fa3f2b3925370291872ddcf823dd8719749dcae6.jpg\n",
            "[%] File Downloaded !\n",
            "\n",
            "[%] Downloading Image #30 from https://external-preview.redd.it/pbEfLIYe90hFmJFBXWG8K0oXU4ayUl-6-USZlF7G_qk.jpg?auto=webp&amp;s=b2d9b17a5a84826506058e26ddbaeead84d0761a\n",
            "[!] Issue getting: https://external-preview.redd.it/pbEfLIYe90hFmJFBXWG8K0oXU4ayUl-6-USZlF7G_qk.jpg?auto=webp&amp;s=b2d9b17a5a84826506058e26ddbaeead84d0761a\n",
            "[!] Error:: HTTP Error 403: Forbidden\n",
            "[%] Downloading Image #30 from https://i.pinimg.com/originals/df/6e/57/df6e57b2d6050b54f683c11d271b1803.jpg\n",
            "[%] File Downloaded !\n",
            "\n",
            "\n",
            "\n",
            "[%] Done. Downloaded 30 images.\n",
            "===============================================\n",
            "\n",
            "Please show your support here\n",
            "https://www.buymeacoffee.com/gurugaurav\n",
            "\n",
            "===============================================\n",
            "\n",
            "time: 10.9 s (started: 2021-06-28 07:55:17 +00:00)\n"
          ],
          "name": "stdout"
        }
      ]
    },
    {
      "cell_type": "code",
      "metadata": {
        "colab": {
          "base_uri": "https://localhost:8080/"
        },
        "id": "KH0ezhOxjH6_",
        "outputId": "9d2a0de5-4f69-4c23-e0a5-9b5c5b0e7b3e"
      },
      "source": [
        "#Preprocessing\n",
        "\n",
        "import os\n",
        "import matplotlib.pyplot as plt\n",
        "import numpy as np\n",
        "from skimage.io import imread\n",
        "from skimage.transform import resize\n",
        "\n",
        "target = []\n",
        "images = []\n",
        "flat_data = []\n",
        "\n",
        "DATADIR = '/content/images'\n",
        "CATEGORIES = ['pretty sunflower','cricket ball','cars']\n",
        "\n",
        "for category in CATEGORIES:\n",
        "  class_num = CATEGORIES.index(category)\n",
        "  path  = os.path.join(DATADIR,category)\n",
        "  for img in os.listdir(path):\n",
        "    img_array = imread(os.path.join(path,img))\n",
        "    img_resized = resize(img_array,(150,150,3))\n",
        "    flat_data.append(img_resized.flatten())\n",
        "    images.append(img_resized)\n",
        "    target.append(class_num)\n",
        "\n",
        "flat_data = np.array(flat_data)\n",
        "target = np.array(target)\n",
        "images = np.array(images)  "
      ],
      "execution_count": 9,
      "outputs": [
        {
          "output_type": "stream",
          "text": [
            "time: 37.6 s (started: 2021-06-28 07:55:28 +00:00)\n"
          ],
          "name": "stdout"
        }
      ]
    },
    {
      "cell_type": "code",
      "metadata": {
        "colab": {
          "base_uri": "https://localhost:8080/"
        },
        "id": "CZD6K5KMmOgo",
        "outputId": "2e2338e5-0808-4b1d-ac34-e9f828585789"
      },
      "source": [
        "from sklearn.model_selection import train_test_split\n",
        "x_train,x_test,y_train,y_test = train_test_split(flat_data,target,test_size=0.3,random_state=109)"
      ],
      "execution_count": 10,
      "outputs": [
        {
          "output_type": "stream",
          "text": [
            "time: 20.7 ms (started: 2021-06-28 07:56:06 +00:00)\n"
          ],
          "name": "stdout"
        }
      ]
    },
    {
      "cell_type": "code",
      "metadata": {
        "colab": {
          "base_uri": "https://localhost:8080/"
        },
        "id": "ZFKN6gPxntXL",
        "outputId": "e4bef060-78d2-4e10-f86c-9e3a20caf188"
      },
      "source": [
        "from sklearn.model_selection import GridSearchCV\n",
        "from sklearn import svm\n",
        "param_grid = [\n",
        "              {'C':[1,10,100,1000],'kernel':['linear']},\n",
        "              {'C':[1,10,100,1000],'gamma':[0.001,0.0001],'kernel':['rbf']}\n",
        "]\n",
        "\n",
        "svc = svm.SVC(probability=True)\n",
        "clf = GridSearchCV(svc,param_grid)\n",
        "clf.fit(x_train,y_train)"
      ],
      "execution_count": 11,
      "outputs": [
        {
          "output_type": "execute_result",
          "data": {
            "text/plain": [
              "GridSearchCV(cv=None, error_score=nan,\n",
              "             estimator=SVC(C=1.0, break_ties=False, cache_size=200,\n",
              "                           class_weight=None, coef0=0.0,\n",
              "                           decision_function_shape='ovr', degree=3,\n",
              "                           gamma='scale', kernel='rbf', max_iter=-1,\n",
              "                           probability=True, random_state=None, shrinking=True,\n",
              "                           tol=0.001, verbose=False),\n",
              "             iid='deprecated', n_jobs=None,\n",
              "             param_grid=[{'C': [1, 10, 100, 1000], 'kernel': ['linear']},\n",
              "                         {'C': [1, 10, 100, 1000], 'gamma': [0.001, 0.0001],\n",
              "                          'kernel': ['rbf']}],\n",
              "             pre_dispatch='2*n_jobs', refit=True, return_train_score=False,\n",
              "             scoring=None, verbose=0)"
            ]
          },
          "metadata": {
            "tags": []
          },
          "execution_count": 11
        },
        {
          "output_type": "stream",
          "text": [
            "time: 1min 53s (started: 2021-06-28 08:10:29 +00:00)\n"
          ],
          "name": "stdout"
        }
      ]
    },
    {
      "cell_type": "code",
      "metadata": {
        "colab": {
          "base_uri": "https://localhost:8080/"
        },
        "id": "5OHNE2lXrzto",
        "outputId": "c4e164e5-b2d3-4d30-a9ed-3a7d31a42859"
      },
      "source": [
        "y_pred = clf.predict(x_test)\n",
        "y_pred"
      ],
      "execution_count": 12,
      "outputs": [
        {
          "output_type": "execute_result",
          "data": {
            "text/plain": [
              "array([1, 0, 1, 2, 2, 1, 0, 1, 1, 2, 1, 0, 1, 2, 2, 1, 2, 1, 0, 1, 2, 2,\n",
              "       2, 0, 0, 0, 1])"
            ]
          },
          "metadata": {
            "tags": []
          },
          "execution_count": 12
        },
        {
          "output_type": "stream",
          "text": [
            "time: 196 ms (started: 2021-06-28 08:15:20 +00:00)\n"
          ],
          "name": "stdout"
        }
      ]
    },
    {
      "cell_type": "code",
      "metadata": {
        "colab": {
          "base_uri": "https://localhost:8080/"
        },
        "id": "meI2TXwGsC1q",
        "outputId": "90e7c647-d733-4c7c-d655-c208411fd5eb"
      },
      "source": [
        "y_test"
      ],
      "execution_count": 13,
      "outputs": [
        {
          "output_type": "execute_result",
          "data": {
            "text/plain": [
              "array([1, 0, 1, 2, 2, 1, 0, 1, 1, 0, 1, 0, 1, 2, 2, 1, 2, 1, 0, 1, 2, 2,\n",
              "       2, 0, 0, 0, 1])"
            ]
          },
          "metadata": {
            "tags": []
          },
          "execution_count": 13
        },
        {
          "output_type": "stream",
          "text": [
            "time: 3.9 ms (started: 2021-06-28 08:15:45 +00:00)\n"
          ],
          "name": "stdout"
        }
      ]
    },
    {
      "cell_type": "code",
      "metadata": {
        "colab": {
          "base_uri": "https://localhost:8080/"
        },
        "id": "s-WjvIjpsR00",
        "outputId": "77c73a2d-50e9-4e05-a4f4-26921be0ed50"
      },
      "source": [
        "from sklearn.metrics import accuracy_score,confusion_matrix, classification_report"
      ],
      "execution_count": 19,
      "outputs": [
        {
          "output_type": "stream",
          "text": [
            "time: 1.24 ms (started: 2021-06-28 08:29:34 +00:00)\n"
          ],
          "name": "stdout"
        }
      ]
    },
    {
      "cell_type": "code",
      "metadata": {
        "colab": {
          "base_uri": "https://localhost:8080/"
        },
        "id": "gxeCaR84spuz",
        "outputId": "348dc8a6-6050-4791-9616-7ac9ba35c9cb"
      },
      "source": [
        "accuracy_score(y_pred,y_test)"
      ],
      "execution_count": 15,
      "outputs": [
        {
          "output_type": "execute_result",
          "data": {
            "text/plain": [
              "0.9629629629629629"
            ]
          },
          "metadata": {
            "tags": []
          },
          "execution_count": 15
        },
        {
          "output_type": "stream",
          "text": [
            "time: 5.67 ms (started: 2021-06-28 08:18:39 +00:00)\n"
          ],
          "name": "stdout"
        }
      ]
    },
    {
      "cell_type": "code",
      "metadata": {
        "colab": {
          "base_uri": "https://localhost:8080/"
        },
        "id": "f12V6M6ns61c",
        "outputId": "4fa29573-fb08-498d-8a83-f2f356f8e6e7"
      },
      "source": [
        "confusion_matrix(y_pred,y_test)"
      ],
      "execution_count": 16,
      "outputs": [
        {
          "output_type": "execute_result",
          "data": {
            "text/plain": [
              "array([[ 7,  0,  0],\n",
              "       [ 0, 11,  0],\n",
              "       [ 1,  0,  8]])"
            ]
          },
          "metadata": {
            "tags": []
          },
          "execution_count": 16
        },
        {
          "output_type": "stream",
          "text": [
            "time: 13.2 ms (started: 2021-06-28 08:19:51 +00:00)\n"
          ],
          "name": "stdout"
        }
      ]
    },
    {
      "cell_type": "code",
      "metadata": {
        "colab": {
          "base_uri": "https://localhost:8080/",
          "height": 69
        },
        "id": "6z9i7SqhvQiI",
        "outputId": "e5001700-13cd-4fad-e4b8-dd1dece9f7c1"
      },
      "source": [
        "classification_report(y_pred,y_test)"
      ],
      "execution_count": 20,
      "outputs": [
        {
          "output_type": "execute_result",
          "data": {
            "application/vnd.google.colaboratory.intrinsic+json": {
              "type": "string"
            },
            "text/plain": [
              "'              precision    recall  f1-score   support\\n\\n           0       0.88      1.00      0.93         7\\n           1       1.00      1.00      1.00        11\\n           2       1.00      0.89      0.94         9\\n\\n    accuracy                           0.96        27\\n   macro avg       0.96      0.96      0.96        27\\nweighted avg       0.97      0.96      0.96        27\\n'"
            ]
          },
          "metadata": {
            "tags": []
          },
          "execution_count": 20
        },
        {
          "output_type": "stream",
          "text": [
            "time: 13.5 ms (started: 2021-06-28 08:30:01 +00:00)\n"
          ],
          "name": "stdout"
        }
      ]
    },
    {
      "cell_type": "code",
      "metadata": {
        "colab": {
          "base_uri": "https://localhost:8080/"
        },
        "id": "Nkvim4iHuTjO",
        "outputId": "c6c8e433-69f2-4cbd-bbaa-3319aee693a1"
      },
      "source": [
        "import pickle\n",
        "pickle.dump(clf,open('img_model.p','wb'))"
      ],
      "execution_count": 17,
      "outputs": [
        {
          "output_type": "stream",
          "text": [
            "time: 65.8 ms (started: 2021-06-28 08:26:47 +00:00)\n"
          ],
          "name": "stdout"
        }
      ]
    },
    {
      "cell_type": "code",
      "metadata": {
        "colab": {
          "base_uri": "https://localhost:8080/"
        },
        "id": "uT0yveT2um99",
        "outputId": "1f0239df-5c6c-476c-a2b7-0a38baf03e43"
      },
      "source": [
        "model = pickle.load(open('img_model.p','rb'))"
      ],
      "execution_count": 18,
      "outputs": [
        {
          "output_type": "stream",
          "text": [
            "time: 23.1 ms (started: 2021-06-28 08:28:01 +00:00)\n"
          ],
          "name": "stdout"
        }
      ]
    },
    {
      "cell_type": "code",
      "metadata": {
        "colab": {
          "base_uri": "https://localhost:8080/",
          "height": 336
        },
        "id": "HgkhHIWSvFI3",
        "outputId": "409f265e-221b-4fbc-fda8-963f26d2d01e"
      },
      "source": [
        "#Testing the new image\n",
        "\n",
        "flat_data = []\n",
        "url = input('Enter your URL')\n",
        "img = imread(url)\n",
        "img_resized = resize(img,(150,150,3))\n",
        "flat_data.append(img_resized.flatten())\n",
        "flat_data = np.array(flat_data)\n",
        "print(img.shape)\n",
        "plt.imshow(img_resized)\n",
        "y_out = model.predict(flat_data)\n",
        "y_out = CATEGORIES[y_out[0]]\n",
        "print(f'PREDICTED OUTPUT: {y_out}')"
      ],
      "execution_count": 25,
      "outputs": [
        {
          "output_type": "stream",
          "text": [
            "Enter your URLhttps://cdn.shopify.com/s/files/1/0756/1735/products/clubmatch_156g.jpg\n",
            "(1850, 1850, 3)\n",
            "PREDICTED OUTPUT: cricket ball\n"
          ],
          "name": "stdout"
        },
        {
          "output_type": "display_data",
          "data": {
            "image/png": "[encoded data removed]",
            "text/plain": [
              "<Figure size 432x288 with 1 Axes>"
            ]
          },
          "metadata": {
            "tags": [],
            "needs_background": "light"
          }
        },
        {
          "output_type": "stream",
          "text": [
            "time: 56.9 s (started: 2021-06-28 08:47:58 +00:00)\n"
          ],
          "name": "stdout"
        }
      ]
    }
  ]
}